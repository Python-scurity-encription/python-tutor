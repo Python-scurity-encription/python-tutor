{
 "cells": [
  {
   "cell_type": "code",
   "execution_count": null,
   "metadata": {},
   "outputs": [],
   "source": [
    "#hi i am Verno, your teacher welcome to python basic courses,let's get started"
   ]
  },
  {
   "cell_type": "code",
   "execution_count": null,
   "metadata": {
    "tags": []
   },
   "outputs": [],
   "source": [
    "#the easy printing way \n",
    "print('hi')\n",
    "print(\"hi this will work\")\n",
    "print(\"hi\")"
   ]
  },
  {
   "cell_type": "code",
   "execution_count": null,
   "metadata": {},
   "outputs": [],
   "source": [
    "#this is a varibal\n",
    "a=1"
   ]
  },
  {
   "cell_type": "code",
   "execution_count": null,
   "metadata": {
    "tags": []
   },
   "outputs": [],
   "source": [
    "#lets do something with it\n",
    "a=1\n",
    "print(a)\n",
    "#add 1\n",
    "a+=1\n",
    "print(a)\n",
    "#redentify varibal\n",
    "a=100\n",
    "print(a)"
   ]
  },
  {
   "cell_type": "code",
   "execution_count": null,
   "metadata": {
    "tags": []
   },
   "outputs": [],
   "source": [
    "# what if...\n",
    "w=1\n",
    "w+=1\n",
    "if w==2:\n",
    "    print(\"if loop,cool\")\n",
    "elif w==3:\n",
    "    print(\"wow\")\n",
    "elif w==4:\n",
    "    print('this choise')\n",
    "else:\n",
    "    print(\"~~\")\n",
    "print('always print this')"
   ]
  },
  {
   "cell_type": "code",
   "execution_count": null,
   "metadata": {
    "tags": []
   },
   "outputs": [],
   "source": [
    "#now, lets do a loop\n",
    "x=1\n",
    "while x<5:\n",
    "    print(\"still not yet~\")\n",
    "    x+=1\n",
    "print(\"no more loop\")"
   ]
  },
  {
   "cell_type": "code",
   "execution_count": null,
   "metadata": {
    "tags": []
   },
   "outputs": [],
   "source": [
    "#make a list\n",
    "a=[1,2,3,4,5,]\n",
    "w={2:4,4:3}\n",
    "print(a,w)\n",
    "for m in a:\n",
    "    print(m)\n",
    "    print(\"    \")"
   ]
  },
  {
   "cell_type": "code",
   "execution_count": null,
   "metadata": {
    "tags": []
   },
   "outputs": [],
   "source": [
    "#another kind of loop\n",
    "for a in range(1,11):\n",
    "    print('hi')\n",
    "    print(a)"
   ]
  },
  {
   "cell_type": "code",
   "execution_count": null,
   "metadata": {
    "tags": []
   },
   "outputs": [],
   "source": [
    "a=[1,2,3,4,5,]\n",
    "w={2:4,5:3}\n",
    "print(a,w)\n",
    "for m in w:\n",
    "    print(m)\n",
    "    print(\"    \")"
   ]
  },
  {
   "cell_type": "code",
   "execution_count": null,
   "metadata": {
    "tags": []
   },
   "outputs": [],
   "source": [
    "w={2:4,5:3}\n",
    "w[7]=9\n",
    "del w[5]\n",
    "print(w)"
   ]
  },
  {
   "cell_type": "code",
   "execution_count": null,
   "metadata": {
    "tags": []
   },
   "outputs": [],
   "source": [
    "#the count starts at 0 etc. 'a'->\n",
    "a=['a','b','c','d','e']\n",
    "a.append('hi')\n",
    "del a[4]\n",
    "print(a)"
   ]
  },
  {
   "cell_type": "code",
   "execution_count": null,
   "metadata": {
    "tags": []
   },
   "outputs": [],
   "source": [
    "#congruajulations you have completes your simple part of  your python lesson, lets do some hard stuff!\n",
    "print(\"hi\")\n",
    "#this is a DEF\n",
    "#and you can creat you own\n",
    "def cauculate(one):\n",
    "    for x in range(1,11):\n",
    "        one+=1\n",
    "    return one\n",
    "print(cauculate(7))"
   ]
  },
  {
   "cell_type": "code",
   "execution_count": null,
   "metadata": {
    "tags": []
   },
   "outputs": [],
   "source": [
    "#let's do some hard things\n",
    "def my_len(words):\n",
    "    counter = 0\n",
    "    for i in words:\n",
    "        counter = counter + 1\n",
    "    return counter\n",
    "\n",
    "a=\"1296\"\n",
    "print(my_len(a))"
   ]
  },
  {
   "cell_type": "code",
   "execution_count": null,
   "metadata": {
    "tags": []
   },
   "outputs": [],
   "source": [
    "#some printing\n",
    "def open():\n",
    "    print(\"pretty fun?\")\n",
    "    print(\"i think so any ways\")\n",
    "open()"
   ]
  },
  {
   "cell_type": "code",
   "execution_count": null,
   "metadata": {
    "tags": []
   },
   "outputs": [],
   "source": [
    "def menu(appetizer, course):\n",
    "    print('fast foods: ' + appetizer)\n",
    "    print('main cours：' + course)\n",
    "\n",
    "menu('hambergur','lamb and noodull')\n",
    "\n",
    "#or you can do it this way:\n",
    "\n",
    "print(\"\\n\")\n",
    "\n",
    "def menu(appetizer, course):\n",
    "    print('fast foods: ' + appetizer)\n",
    "    print('main cours：' + course)\n",
    "\n",
    "menu(course = 'lamb and noodull', appetizer = 'hambergur')"
   ]
  },
  {
   "cell_type": "code",
   "execution_count": null,
   "metadata": {
    "tags": []
   },
   "outputs": [],
   "source": [
    "def menu(fastfood, course, dessert=\"Mung bean paste\"):\n",
    "    print('fast food : '+fastfood)\n",
    "    print('main coursen : '+course)\n",
    "    print('dessert : '+dessert)\n",
    "menu(course = 'lamb and noodull', fastfood = 'hambergur')"
   ]
  },
  {
   "cell_type": "code",
   "execution_count": null,
   "metadata": {
    "tags": []
   },
   "outputs": [],
   "source": [
    "#some extention codes\n",
    "print('a', 'b', 'c')\n",
    "print('a', 'b', 'c', sep = '+')\n",
    "print('a', 'b', 'c', sep = '+', end = '=a+b+c')"
   ]
  },
  {
   "cell_type": "code",
   "execution_count": null,
   "metadata": {
    "tags": []
   },
   "outputs": [],
   "source": [
    "import random \n",
    "appetizer = ['food','yummy food','very yummy food']\n",
    "def coupon(money):\n",
    "    if money < 5:\n",
    "        a = random.choice(appetizer)\n",
    "        return a\n",
    "    elif 5 <= money < 10:\n",
    "        b = random.choice (appetizer)\n",
    "        return b, 'good food!'\n",
    "\n",
    "print(coupon(6))"
   ]
  },
  {
   "cell_type": "code",
   "execution_count": null,
   "metadata": {
    "tags": []
   },
   "outputs": [],
   "source": [
    "#thats pretty easy,let's do somthing harder\n",
    "class Computer:\n",
    "\n",
    "    screen = True\n",
    "\n",
    "    def start(self):# the bit diffrent here is you need 'self' any where\n",
    "        print('computer opening...')\n",
    "#this is how to create a \"class\"\n",
    "my_computer = Computer()\n",
    "print(my_computer.screen)\n",
    "my_computer.start()\n"
   ]
  },
  {
   "cell_type": "code",
   "execution_count": null,
   "metadata": {
    "tags": []
   },
   "outputs": [],
   "source": [
    "#now a bit more\n",
    "class Chinese:\n",
    "\n",
    "\n",
    "    def greeting(self):\n",
    "        print('happy to meet you')\n",
    "\n",
    "\n",
    "    def say(self):\n",
    "        self.greeting() \n",
    "        print('i am from china')\n",
    "Time=Chinese()\n",
    "Time.say()"
   ]
  },
  {
   "cell_type": "code",
   "execution_count": null,
   "metadata": {
    "tags": []
   },
   "outputs": [],
   "source": [
    "class Chinese:\n",
    "\n",
    "    def __init__(self): \n",
    "        print('Nice to meet you, I am the initialization method')\n",
    "        #this will work without the .something thing\n",
    "\n",
    "person = Chinese()"
   ]
  },
  {
   "cell_type": "code",
   "execution_count": null,
   "metadata": {},
   "outputs": [],
   "source": []
  }
 ],
 "metadata": {
  "language_info": {
   "codemirror_mode": {
    "name": "ipython",
    "version": 3
   },
   "file_extension": ".py",
   "mimetype": "text/x-python",
   "name": "python",
   "nbconvert_exporter": "python",
   "pygments_lexer": "ipython3",
   "version": "3.7.6-final"
  },
  "orig_nbformat": 2,
  "kernelspec": {
   "name": "python3",
   "display_name": "Python 3"
  }
 },
 "nbformat": 4,
 "nbformat_minor": 2
}